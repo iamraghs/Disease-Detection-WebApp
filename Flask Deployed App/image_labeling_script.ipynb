{
 "cells": [
  {
   "cell_type": "code",
   "execution_count": 7,
   "id": "23f0e4f2",
   "metadata": {},
   "outputs": [],
   "source": [
    "import os\n",
    "import shutil\n",
    "\n",
    "# Function to copy and rename images for labeling\n",
    "def copy_and_rename_images(folder_path, output_folder):\n",
    "    os.makedirs(output_folder, exist_ok=True)\n",
    "    image_count = 0\n",
    "    for filename in os.listdir(folder_path):\n",
    "        if filename.endswith(('.jpg','.JPG', '.jpeg', '.png')):  # Add more extensions if needed\n",
    "            source_path = os.path.join(folder_path, filename)\n",
    "            dest_path = os.path.join(output_folder, f\"yellowing leaf_{image_count}.jpg\")\n",
    "            shutil.copy(source_path, dest_path)\n",
    "            image_count += 1\n",
    "\n",
    "# Main function\n",
    "def main():\n",
    "    input_folders = [\"yellowing leaves\"]\n",
    "    for folder in input_folders:\n",
    "        copy_and_rename_images(folder, folder + \"_labeled\")\n",
    "\n",
    "if __name__ == \"__main__\":\n",
    "    main()\n"
   ]
  }
 ],
 "metadata": {
  "kernelspec": {
   "display_name": "Python 3 (ipykernel)",
   "language": "python",
   "name": "python3"
  },
  "language_info": {
   "codemirror_mode": {
    "name": "ipython",
    "version": 3
   },
   "file_extension": ".py",
   "mimetype": "text/x-python",
   "name": "python",
   "nbconvert_exporter": "python",
   "pygments_lexer": "ipython3",
   "version": "3.10.12"
  }
 },
 "nbformat": 4,
 "nbformat_minor": 5
}
